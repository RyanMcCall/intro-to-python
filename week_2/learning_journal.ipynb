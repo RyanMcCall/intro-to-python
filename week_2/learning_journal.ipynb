{
 "cells": [
  {
   "cell_type": "markdown",
   "id": "e3b76503-c59f-4a35-a1a6-5dedd0533c7d",
   "metadata": {},
   "source": [
    "# Learning Journal Week 2\n",
    "\n",
    "## Part 1\n",
    "\n",
    "The volume of a sphere is 4/3πr3, where π has the value of \"pi\" given in Section 2.1 of your textbook. Write a function called print_volume (r) that takes an argument for the sphere's radius and prints the sphere's volume.\n",
    "\n",
    "Call your print_volume function three times with different values for radius.\n",
    "\n",
    "Include all of the following in your Learning Journal:\n",
    "\n",
    "* The code for your print_volume function.\n",
    "* The inputs and outputs to three calls of your print_volume."
   ]
  },
  {
   "cell_type": "code",
   "execution_count": 1,
   "id": "7f9e378f-383e-48f7-9455-c068ef2c663b",
   "metadata": {},
   "outputs": [],
   "source": [
    "def print_volume(r):\n",
    "    pi =  3.1415926535897932\n",
    "    \n",
    "    volume_of_sphere = (4/3) * pi * (r ** 3)\n",
    "    \n",
    "    print(volume_of_sphere)"
   ]
  },
  {
   "cell_type": "code",
   "execution_count": 2,
   "id": "079469b6-dc3b-40e3-9944-ba6827e424df",
   "metadata": {},
   "outputs": [
    {
     "name": "stdout",
     "output_type": "stream",
     "text": [
      "4.1887902047863905\n"
     ]
    }
   ],
   "source": [
    "print_volume(1)"
   ]
  },
  {
   "cell_type": "code",
   "execution_count": 3,
   "id": "18cfeb18-c21f-46b7-a932-ca15d3033aa5",
   "metadata": {},
   "outputs": [
    {
     "name": "stdout",
     "output_type": "stream",
     "text": [
      "33.510321638291124\n"
     ]
    }
   ],
   "source": [
    "print_volume(2)"
   ]
  },
  {
   "cell_type": "code",
   "execution_count": 4,
   "id": "6df1429b-7665-4749-87cd-a1fdf8e4cb1f",
   "metadata": {},
   "outputs": [
    {
     "name": "stdout",
     "output_type": "stream",
     "text": [
      "113.09733552923254\n"
     ]
    }
   ],
   "source": [
    "print_volume(3)"
   ]
  },
  {
   "cell_type": "markdown",
   "id": "37a5bf75-ddd5-4b87-aa76-b22eac8854ac",
   "metadata": {},
   "source": [
    "## Part 2\n",
    "\n",
    "Write your own function that illustrates a feature that you learned in this unit. The function must take at least one argument. The function should be your own creation, not copied from any other source. **Do not copy a function from your textbook or the Internet.**\n",
    "\n",
    "Include all of the following in your Learning Journal:\n",
    "\n",
    "* The code for the function that you invented.\n",
    "* The inputs and outputs to three calls of your invented function.\n",
    "* A description of what feature(s) your function illustrates."
   ]
  },
  {
   "cell_type": "code",
   "execution_count": 11,
   "id": "e2b3b345-86e9-43b5-82b0-58b1ffe2382e",
   "metadata": {},
   "outputs": [],
   "source": [
    "import random\n",
    "\n",
    "def describe_rubber_ducky(name):\n",
    "    first_descriptors = [\n",
    "        \"Zany\",\n",
    "        \"Goofy\",\n",
    "        \"Wacky\",\n",
    "        \"Absurd\",\n",
    "        \"Kooky\",\n",
    "        \"Bizarre\",\n",
    "        \"Nutty\",\n",
    "        \"Daffy\",\n",
    "        \"Loony\",\n",
    "        \"Whimsical\",\n",
    "    ]\n",
    "    \n",
    "    second_descriptors = [\n",
    "        \"Flibbertigibbet\",\n",
    "        \"Bumfuzzled\",\n",
    "        \"Flummoxed\",\n",
    "        \"Gobbledygook\",\n",
    "        \"Higgledy-piggledy\",\n",
    "        \"Mumbo jumbo\",\n",
    "        \"Skedaddle\",\n",
    "        \"Skullduggery\",\n",
    "        \"Widdershins\",\n",
    "        \"Ziggurat\",\n",
    "    ]\n",
    "    \n",
    "    pick_1 = random.choice(first_descriptors)\n",
    "    pick_2 = random.choice(second_descriptors)\n",
    "    \n",
    "    print(pick_1 + ',', pick_2, name)"
   ]
  },
  {
   "cell_type": "code",
   "execution_count": 12,
   "id": "73d6b558-7abf-41fd-aeb5-b0afb3bca610",
   "metadata": {},
   "outputs": [
    {
     "name": "stdout",
     "output_type": "stream",
     "text": [
      "Goofy, Mumbo jumbo Charlie\n"
     ]
    }
   ],
   "source": [
    "describe_rubber_ducky('Charlie')"
   ]
  },
  {
   "cell_type": "code",
   "execution_count": 13,
   "id": "c9d1cca2-b4b8-41b9-8f83-4955a0a67355",
   "metadata": {},
   "outputs": [
    {
     "name": "stdout",
     "output_type": "stream",
     "text": [
      "Bizarre, Gobbledygook Carol\n"
     ]
    }
   ],
   "source": [
    "describe_rubber_ducky('Carol')"
   ]
  },
  {
   "cell_type": "code",
   "execution_count": 14,
   "id": "d421b1f4-4c4f-4445-8d76-c1eb2a6a743e",
   "metadata": {},
   "outputs": [
    {
     "name": "stdout",
     "output_type": "stream",
     "text": [
      "Nutty, Skedaddle Henry\n"
     ]
    }
   ],
   "source": [
    "describe_rubber_ducky('Henry')"
   ]
  },
  {
   "cell_type": "markdown",
   "id": "84eff49a-d06f-4405-bde7-a1e2ef8faf52",
   "metadata": {},
   "source": [
    "My function is a rubber duck description generator. When given a name for a rubber ducky, it generates random adjectives to be added to it and prints out the created description for the rubber ducky.\n",
    "\n",
    "For my function, I displayed multiple features. First, I showed that we could import functions from other modules. In our book, we were shown that we could import from the math module, whereas my function uses imported functions from the random module. My function also utilizes local variables to store information in the function. My function utilizes string operations to concatenate strings in the final print statement. It also uses the ability to add several arguments to the print statement all at once."
   ]
  }
 ],
 "metadata": {
  "kernelspec": {
   "display_name": "Python 3 (ipykernel)",
   "language": "python",
   "name": "python3"
  },
  "language_info": {
   "codemirror_mode": {
    "name": "ipython",
    "version": 3
   },
   "file_extension": ".py",
   "mimetype": "text/x-python",
   "name": "python",
   "nbconvert_exporter": "python",
   "pygments_lexer": "ipython3",
   "version": "3.10.9"
  }
 },
 "nbformat": 4,
 "nbformat_minor": 5
}
